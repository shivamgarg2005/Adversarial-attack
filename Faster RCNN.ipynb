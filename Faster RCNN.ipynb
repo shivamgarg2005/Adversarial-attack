{
 "cells": [
  {
   "cell_type": "code",
   "execution_count": 1,
   "id": "a13c625a",
   "metadata": {},
   "outputs": [],
   "source": [
    "import tensorflow as tf\n",
    "import os\n",
    "import io\n",
    "import sys\n",
    "import time\n",
    "import math\n",
    "import zipfile\n",
    "import cv2\n",
    "import numpy as np\n",
    "import tensorflow as tf\n",
    "import six.moves.urllib as urllib\n",
    "from IPython.display import clear_output, Image, display, HTML\n",
    "from object_detection.utils import label_map_util\n",
    "from object_detection.utils.visualization_utils import visualize_boxes_and_labels_on_image_array\n"
   ]
  },
  {
   "cell_type": "code",
   "execution_count": 3,
   "id": "6eefbe14",
   "metadata": {},
   "outputs": [],
   "source": [
    "\n",
    "MODEL_NAME = 'faster_rcnn_inception_v2_coco_2017_11_08'\n",
    "MODEL_FILE = MODEL_NAME + '.tar.gz'\n",
    "DOWNLOAD_BASE = 'http://download.tensorflow.org/models/object_detection/'\n",
    "PATH_TO_CKPT = MODEL_NAME + '/frozen_inference_graph.pb'\n",
    "PATH_TO_LABELS = 'data/mscoco_label_map.pbtxt'\n",
    "NUM_CLASSES = 90"
   ]
  },
  {
   "cell_type": "code",
   "execution_count": 29,
   "id": "97ebc6b3",
   "metadata": {},
   "outputs": [],
   "source": [
    "opener = urllib.request.URLopener()\n",
    "opener.retrieve(DOWNLOAD_BASE + MODEL_FILE, MODEL_FILE)\n",
    "tar_file = tarfile.open(MODEL_FILE)\n",
    "for file in tar_file.getmembers():\n",
    "  file_name = os.path.basename(file.name)\n",
    "  if 'frozen_inference_graph.pb' in file_name:\n",
    "    tar_file.extract(file, os.getcwd())"
   ]
  },
  {
   "cell_type": "code",
   "execution_count": 4,
   "id": "e5e32d38",
   "metadata": {},
   "outputs": [],
   "source": [
    "label_map = label_map_util.load_labelmap(PATH_TO_LABELS)\n",
    "categories = label_map_util.convert_label_map_to_categories(label_map, max_num_classes=NUM_CLASSES, use_display_name=True)\n",
    "category_index = label_map_util.create_category_index(categories)"
   ]
  },
  {
   "cell_type": "code",
   "execution_count": 5,
   "id": "9db1607e",
   "metadata": {},
   "outputs": [],
   "source": [
    "def img2arr(path):\n",
    "    im = cv2.imread(path)\n",
    "    img = cv2.cvtColor(cv2.resize(im, (600, 600)), cv2.COLOR_BGR2RGB)\n",
    "    return img\n",
    "\n",
    "def arr2img(a, fmt='png'):\n",
    "    cv2.imshow(\"Color Image\",a[:, :, ::-1])\n",
    "    cv2.waitKey(0)\n",
    "    cv2.destroyAllWindows()\n"
   ]
  },
  {
   "cell_type": "code",
   "execution_count": 6,
   "id": "9e180b29",
   "metadata": {},
   "outputs": [],
   "source": [
    "psize = 600\n",
    "inference_graph = tf.Graph()\n",
    "with inference_graph.as_default():\n",
    "    image_tensor = tf.placeholder(tf.float32, shape=(None, psize, psize, 3), name='image_tensor')\n",
    "    inference_graph_def = tf.GraphDef()\n",
    "    with tf.gfile.GFile(PATH_TO_CKPT, 'rb') as fid:\n",
    "        serialized_graph = fid.read()\n",
    "        inference_graph_def.ParseFromString(serialized_graph)\n",
    "        tf.import_graph_def(inference_graph_def, name='',\n",
    "                            input_map={'Preprocessor/map/TensorArrayStack/TensorArrayGatherV3:0':image_tensor})"
   ]
  },
  {
   "cell_type": "code",
   "execution_count": 14,
   "id": "7ad18fb5",
   "metadata": {},
   "outputs": [],
   "source": [
    "def plot_detections(img, scores=None, bboxes=None, min_threshold=0):\n",
    "    if scores is None or bboxes is None:\n",
    "        \n",
    "        inference_sess = tf.Session(graph=inference_graph)\n",
    "\n",
    "        tensors = [ \n",
    "                    inference_graph.get_tensor_by_name('num_detections:0'),\n",
    "                    inference_graph.get_tensor_by_name('SecondStagePostprocessor/Reshape_4:0'),\n",
    "                    inference_graph.get_tensor_by_name('SecondStagePostprocessor/convert_scores:0') ]\n",
    "\n",
    "        feed_dict = { inference_graph.get_tensor_by_name('image_tensor:0'): np.expand_dims(img, axis=0) }\n",
    "\n",
    "        num_detections, bboxes, scores = inference_sess.run(tensors,\n",
    "                                                                                                 feed_dict)\n",
    "        \n",
    "        bboxes = bboxes[0]\n",
    "        scores = scores[0]\n",
    "        \n",
    "    sorted_classes = np.argsort(scores[:, 1:], axis=1)\n",
    "    sorted_scores = scores[:, 1:].copy()\n",
    "    sorted_bboxes = bboxes.copy()\n",
    "\n",
    "    for i, ordering in enumerate(sorted_classes):\n",
    "        sorted_scores[i, :] = scores[i, ordering+1]\n",
    "        sorted_bboxes[i, :] = bboxes[i, ordering, :]\n",
    "\n",
    "    sorted_classes += 1\n",
    "\n",
    "    img_viz = visualize_boxes_and_labels_on_image_array(img.copy(), \n",
    "                                                        sorted_bboxes[:, -1, :],\n",
    "                                                        sorted_classes[:, -1].astype(np.int32),\n",
    "                                                        sorted_scores[:, -1],\n",
    "                                                        category_index,\n",
    "                                                        use_normalized_coordinates=False,\n",
    "                                                        max_boxes_to_draw=sorted_scores.shape[1],\n",
    "                                                        min_score_thresh=min_threshold,\n",
    "                                                        line_thickness=1)\n",
    "    arr2img(img_viz)\n",
    "\n",
    "img = img2arr('data/stop-sign-2.png')\n",
    "plot_detections(img, min_threshold=0.9)"
   ]
  }
 ],
 "metadata": {
  "kernelspec": {
   "display_name": "Python 3",
   "language": "python",
   "name": "python3"
  },
  "language_info": {
   "codemirror_mode": {
    "name": "ipython",
    "version": 3
   },
   "file_extension": ".py",
   "mimetype": "text/x-python",
   "name": "python",
   "nbconvert_exporter": "python",
   "pygments_lexer": "ipython3",
   "version": "3.6.9"
  }
 },
 "nbformat": 4,
 "nbformat_minor": 5
}
